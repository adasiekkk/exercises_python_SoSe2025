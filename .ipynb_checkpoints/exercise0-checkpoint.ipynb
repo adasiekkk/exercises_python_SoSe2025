{
 "cells": [
  {
   "cell_type": "code",
   "execution_count": 5,
   "id": "a43e61f6-e117-4ec3-8f23-384163dc492b",
   "metadata": {},
   "outputs": [
    {
     "name": "stdout",
     "output_type": "stream",
     "text": [
      "90.70294784580499\n"
     ]
    }
   ],
   "source": [
    "pounds=2.205\n",
    "kg=200\n",
    "result = kg/pounds\n",
    "print (result)\n"
   ]
  },
  {
   "cell_type": "code",
   "execution_count": 8,
   "id": "72276554-7914-422c-9600-82e9208a8702",
   "metadata": {},
   "outputs": [
    {
     "ename": "ValueError",
     "evalue": "could not convert string to float: 'Hallo'",
     "output_type": "error",
     "traceback": [
      "\u001b[1;31m---------------------------------------------------------------------------\u001b[0m",
      "\u001b[1;31mValueError\u001b[0m                                Traceback (most recent call last)",
      "Cell \u001b[1;32mIn[8], line 2\u001b[0m\n\u001b[0;32m      1\u001b[0m x \u001b[38;5;241m=\u001b[39m \u001b[38;5;124m\"\u001b[39m\u001b[38;5;124mHallo\u001b[39m\u001b[38;5;124m\"\u001b[39m\n\u001b[1;32m----> 2\u001b[0m \u001b[38;5;28mfloat\u001b[39m(x)\n",
      "\u001b[1;31mValueError\u001b[0m: could not convert string to float: 'Hallo'"
     ]
    }
   ],
   "source": [
    "x = \"Hallo\"\n",
    "float(x)"
   ]
  },
  {
   "cell_type": "code",
   "execution_count": 9,
   "id": "d01bf27b-aa5f-4f55-aa0c-f33c205e60f2",
   "metadata": {},
   "outputs": [
    {
     "data": {
      "text/plain": [
       "3.999"
      ]
     },
     "execution_count": 9,
     "metadata": {},
     "output_type": "execute_result"
    }
   ],
   "source": [
    "y=\"3.999\"\n",
    "float(y)"
   ]
  },
  {
   "cell_type": "code",
   "execution_count": 12,
   "id": "993f0e65-4656-4c6e-be77-3fe3e11d835b",
   "metadata": {},
   "outputs": [
    {
     "data": {
      "text/plain": [
       "3.0"
      ]
     },
     "execution_count": 12,
     "metadata": {},
     "output_type": "execute_result"
    }
   ],
   "source": [
    "z = 3\n",
    "float(z)"
   ]
  },
  {
   "cell_type": "code",
   "execution_count": 13,
   "id": "d07b1c6b-e3aa-4164-94d0-0647980a38df",
   "metadata": {},
   "outputs": [
    {
     "data": {
      "text/plain": [
       "3"
      ]
     },
     "execution_count": 13,
     "metadata": {},
     "output_type": "execute_result"
    }
   ],
   "source": [
    "u = 3.5\n",
    "int(u)"
   ]
  },
  {
   "cell_type": "code",
   "execution_count": 14,
   "id": "f396e1d8-2773-4b1c-8557-9a86a613e559",
   "metadata": {},
   "outputs": [
    {
     "data": {
      "text/plain": [
       "'3.999'"
      ]
     },
     "execution_count": 14,
     "metadata": {},
     "output_type": "execute_result"
    }
   ],
   "source": [
    "str(y)\n"
   ]
  },
  {
   "cell_type": "code",
   "execution_count": 15,
   "id": "dfaa2916-ffd6-45ad-b7f5-6a0e1770c354",
   "metadata": {},
   "outputs": [
    {
     "name": "stdout",
     "output_type": "stream",
     "text": [
      "100\n"
     ]
    }
   ],
   "source": [
    "a=(2*5)**(1+1)\n",
    "print(a)"
   ]
  },
  {
   "cell_type": "code",
   "execution_count": 16,
   "id": "f89afad5-57ee-472a-9d94-e29e9b5a9eaf",
   "metadata": {},
   "outputs": [
    {
     "data": {
      "text/plain": [
       "81"
      ]
     },
     "execution_count": 16,
     "metadata": {},
     "output_type": "execute_result"
    }
   ],
   "source": [
    "3**(2**2)"
   ]
  },
  {
   "cell_type": "code",
   "execution_count": 17,
   "id": "159fdb59-0adf-4326-82da-3859a33cf297",
   "metadata": {},
   "outputs": [
    {
     "data": {
      "text/plain": [
       "0.01"
      ]
     },
     "execution_count": 17,
     "metadata": {},
     "output_type": "execute_result"
    }
   ],
   "source": [
    "1/a"
   ]
  },
  {
   "cell_type": "code",
   "execution_count": 18,
   "id": "7893654b-1cf4-409b-94a5-b070c7aa4c5f",
   "metadata": {},
   "outputs": [
    {
     "name": "stdout",
     "output_type": "stream",
     "text": [
      "134.39163793441222\n"
     ]
    }
   ],
   "source": [
    "i=0.03\n",
    "t=10\n",
    "P=100\n",
    "A=P*((1+i)**t)\n",
    "print(A)"
   ]
  },
  {
   "cell_type": "code",
   "execution_count": 24,
   "id": "a1830dfe-108b-45eb-b2bf-7b8f107cc745",
   "metadata": {},
   "outputs": [
    {
     "name": "stdout",
     "output_type": "stream",
     "text": [
      "2.7182792426663553\n"
     ]
    }
   ],
   "source": [
    "P=1\n",
    "t=1\n",
    "i=1\n",
    "n=60*24*365\n",
    "A=P*(1+i/n)**(t*n)\n",
    "print(A)"
   ]
  },
  {
   "cell_type": "code",
   "execution_count": 22,
   "id": "d3ee8f8a-b6fc-4438-9339-882d5868f871",
   "metadata": {},
   "outputs": [],
   "source": [
    "from math import exp"
   ]
  },
  {
   "cell_type": "code",
   "execution_count": 23,
   "id": "e0225e02-4f33-435e-9820-46e1951b92f4",
   "metadata": {},
   "outputs": [
    {
     "data": {
      "text/plain": [
       "2.718281828459045"
      ]
     },
     "execution_count": 23,
     "metadata": {},
     "output_type": "execute_result"
    }
   ],
   "source": [
    "exp(1)"
   ]
  },
  {
   "cell_type": "code",
   "execution_count": 25,
   "id": "97b07afd-afaa-4368-b8f2-f54c97895c0b",
   "metadata": {},
   "outputs": [],
   "source": [
    "from math import pi"
   ]
  },
  {
   "cell_type": "code",
   "execution_count": 27,
   "id": "3054c104-8525-472a-953c-66debbdf6b69",
   "metadata": {},
   "outputs": [
    {
     "data": {
      "text/plain": [
       "3.141592653589793"
      ]
     },
     "execution_count": 27,
     "metadata": {},
     "output_type": "execute_result"
    }
   ],
   "source": [
    "r=1\n",
    "F=pi*(r**2)\n",
    "F"
   ]
  },
  {
   "cell_type": "code",
   "execution_count": 28,
   "id": "582362dc-a98f-4a54-ac8e-77d0b458f493",
   "metadata": {},
   "outputs": [
    {
     "name": "stdout",
     "output_type": "stream",
     "text": [
      "2.718281828459045\n"
     ]
    }
   ],
   "source": [
    "P=1\n",
    "i=1\n",
    "t=1\n",
    "A=P * exp(i*t)\n",
    "print(A)"
   ]
  },
  {
   "cell_type": "code",
   "execution_count": null,
   "id": "b2e9580b-8334-4b10-bf1a-1c7aa0ecc464",
   "metadata": {},
   "outputs": [],
   "source": []
  }
 ],
 "metadata": {
  "kernelspec": {
   "display_name": "Python 3 (ipykernel)",
   "language": "python",
   "name": "python3"
  },
  "language_info": {
   "codemirror_mode": {
    "name": "ipython",
    "version": 3
   },
   "file_extension": ".py",
   "mimetype": "text/x-python",
   "name": "python",
   "nbconvert_exporter": "python",
   "pygments_lexer": "ipython3",
   "version": "3.11.11"
  }
 },
 "nbformat": 4,
 "nbformat_minor": 5
}
